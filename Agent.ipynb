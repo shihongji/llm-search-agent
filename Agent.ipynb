{
  "nbformat": 4,
  "nbformat_minor": 0,
  "metadata": {
    "colab": {
      "provenance": [],
      "authorship_tag": "ABX9TyMZDVs9sxBp51GJrj879V42",
      "include_colab_link": true
    },
    "kernelspec": {
      "name": "python3",
      "display_name": "Python 3"
    },
    "language_info": {
      "name": "python"
    }
  },
  "cells": [
    {
      "cell_type": "markdown",
      "metadata": {
        "id": "view-in-github",
        "colab_type": "text"
      },
      "source": [
        "<a href=\"https://colab.research.google.com/github/shihongji/llm-search-agent/blob/main/Agent.ipynb\" target=\"_parent\"><img src=\"https://colab.research.google.com/assets/colab-badge.svg\" alt=\"Open In Colab\"/></a>"
      ]
    },
    {
      "cell_type": "markdown",
      "source": [
        "### Environment and libraies"
      ],
      "metadata": {
        "id": "uPBuGORgxc1y"
      }
    },
    {
      "cell_type": "code",
      "execution_count": 3,
      "metadata": {
        "colab": {
          "base_uri": "https://localhost:8080/"
        },
        "id": "9eaSqGF1-Zcw",
        "outputId": "647d0d64-fecc-4097-c18e-5dc179a45695"
      },
      "outputs": [
        {
          "output_type": "stream",
          "name": "stdout",
          "text": [
            "\u001b[?25l     \u001b[90m━━━━━━━━━━━━━━━━━━━━━━━━━━━━━━━━━━━━━━━━\u001b[0m \u001b[32m0.0/309.9 kB\u001b[0m \u001b[31m?\u001b[0m eta \u001b[36m-:--:--\u001b[0m\r\u001b[2K     \u001b[91m━━━━━━━━━━━━━━━━━━━━━━\u001b[0m\u001b[90m╺\u001b[0m\u001b[90m━━━━━━━━━━━━━━━━━\u001b[0m \u001b[32m174.1/309.9 kB\u001b[0m \u001b[31m5.0 MB/s\u001b[0m eta \u001b[36m0:00:01\u001b[0m\r\u001b[2K     \u001b[90m━━━━━━━━━━━━━━━━━━━━━━━━━━━━━━━━━━━━━━━━\u001b[0m \u001b[32m309.9/309.9 kB\u001b[0m \u001b[31m5.3 MB/s\u001b[0m eta \u001b[36m0:00:00\u001b[0m\n",
            "\u001b[2K     \u001b[90m━━━━━━━━━━━━━━━━━━━━━━━━━━━━━━━━━━━━━━━━\u001b[0m \u001b[32m75.6/75.6 kB\u001b[0m \u001b[31m8.0 MB/s\u001b[0m eta \u001b[36m0:00:00\u001b[0m\n",
            "\u001b[2K     \u001b[90m━━━━━━━━━━━━━━━━━━━━━━━━━━━━━━━━━━━━━━━━\u001b[0m \u001b[32m77.9/77.9 kB\u001b[0m \u001b[31m7.0 MB/s\u001b[0m eta \u001b[36m0:00:00\u001b[0m\n",
            "\u001b[2K     \u001b[90m━━━━━━━━━━━━━━━━━━━━━━━━━━━━━━━━━━━━━━━━\u001b[0m \u001b[32m58.3/58.3 kB\u001b[0m \u001b[31m6.2 MB/s\u001b[0m eta \u001b[36m0:00:00\u001b[0m\n",
            "\u001b[?25h"
          ]
        }
      ],
      "source": [
        "!pip install -q openai"
      ]
    },
    {
      "cell_type": "code",
      "source": [
        "import json\n",
        "from typing import List, Tuple\n",
        "from openai import OpenAI\n",
        "import os\n",
        "import requests\n",
        "from google.colab import userdata\n",
        "\n",
        "# OpenAI client\n",
        "client = OpenAI(\n",
        "  api_key=userdata.get('TOGETHER_API_KEY'),\n",
        "  base_url='https://api.together.xyz/v1',\n",
        ")\n",
        "\n",
        "# You API web search\n",
        "def get_ai_snippets_for_query(query):\n",
        "    headers = {\"X-API-Key\": userdata.get('YOU_API_KEY')}\n",
        "    params = {\"query\": query}\n",
        "    results = requests.get(\n",
        "        f\"https://api.ydc-index.io/search\",\n",
        "        params=params,\n",
        "        headers=headers,\n",
        "    ).json()\n",
        "    # return \"\\n\".join([\"\\n\".join(hit[\"snippets\"]) for hit in results[\"hits\"]])\n",
        "    return results\n"
      ],
      "metadata": {
        "id": "ReHO3G3H_JyV"
      },
      "execution_count": 4,
      "outputs": []
    },
    {
      "cell_type": "markdown",
      "source": [
        "#### Choose a model"
      ],
      "metadata": {
        "id": "VZF_crh1xlj5"
      }
    },
    {
      "cell_type": "code",
      "source": [
        "model=\"mistralai/Mistral-7B-Instruct-v0.1\""
      ],
      "metadata": {
        "id": "tYk9P9qkA_Ow"
      },
      "execution_count": 5,
      "outputs": []
    },
    {
      "cell_type": "markdown",
      "source": [
        "## Research Agent"
      ],
      "metadata": {
        "id": "HOcWd-Wyxo_3"
      }
    },
    {
      "cell_type": "markdown",
      "source": [
        "### Tools definition"
      ],
      "metadata": {
        "id": "LGwiE-K5xxSl"
      }
    },
    {
      "cell_type": "code",
      "source": [
        "topic_breakdown_tool = {\n",
        "    \"type\": \"function\",\n",
        "    \"function\": {\n",
        "      \"name\": \"break_down_topic\",\n",
        "      \"description\": \"Take the broad research topic and break it down into 3 smaller, more focused subtopics or subqueries\",\n",
        "      \"parameters\": {\n",
        "        \"type\": \"object\",\n",
        "        \"properties\": {\n",
        "          \"topic\": {\n",
        "            \"type\": \"string\",\n",
        "            \"description\": \"The broad research topic to break down\"\n",
        "          },\n",
        "          \"area\": {\n",
        "              \"type\": \"string\",\n",
        "              \"description\": \"The research area this topic belongs to\"\n",
        "          },\n",
        "          \"subtopics\": {\n",
        "              \"type\": \"array\",\n",
        "              \"description\": \"The 3 subtopics that the topic could be broke down into\"\n",
        "          }\n",
        "        },\n",
        "        \"required\": [\"topic\"]\n",
        "      }\n",
        "    }\n",
        "}\n",
        "\n",
        "query_expansion_tool = {\n",
        "    \"type\": \"function\",\n",
        "    \"function\": {\n",
        "      \"name\": \"expand_subtopic\",\n",
        "      \"description\": \"Expand the subtopic to 3 total subqueries (e.g., related keywords, synonyms or phrases) to enhance the web search results\",\n",
        "      \"parameters\": {\n",
        "        \"type\": \"object\",\n",
        "        \"properties\": {\n",
        "          \"subtopic\": {\n",
        "              \"type\": \"string\",\n",
        "              \"description\": \"The sub-topic from a broader topic\"\n",
        "          },\n",
        "          \"subqueries\": {\n",
        "              \"type\": \"string\",\n",
        "              \"description\": \"The 3 subqueries related to the subtopic which are generated to enhance the future search results\"\n",
        "          }\n",
        "        },\n",
        "        \"required\": [\"subtopic\", \"subqueries\"]\n",
        "      }\n",
        "    }\n",
        "}\n",
        "\n",
        "combine_queries_tool = {\n",
        "    \"type\": \"function\",\n",
        "    \"function\": {\n",
        "      \"name\": \"combine_queries_tool\",\n",
        "      \"description\": \"Combine expanded subqueries and keywords to generate the 3 most relevant queries to the main topic for enhanced search results\",\n",
        "      \"parameters\": {\n",
        "        \"type\": \"object\",\n",
        "        \"properties\": {\n",
        "          \"topic\": {\n",
        "            \"type\": \"string\",\n",
        "            \"description\": \"The main research topic\"\n",
        "          },\n",
        "          \"subqueries\": {\n",
        "              \"type\": \"array\",\n",
        "              \"items\": {\n",
        "                  \"type\": \"string\"\n",
        "              },\n",
        "              \"description\": \"The expanded subqueries and keywords related to the topic\"\n",
        "          },\n",
        "            \"search_queries\": {\n",
        "                \"type\": \"array\",\n",
        "                \"items\": {\n",
        "                    \"type\": \"string\"\n",
        "                },\n",
        "                \"description\": \"The 3 most relevant combined queries ready for search\"\n",
        "            }\n",
        "        },\n",
        "        \"required\": [\"subqueries\"]\n",
        "      },\n",
        "    }\n",
        "}\n",
        "\n",
        "write_essay_tool = {\n",
        "    \"type\": \"function\",\n",
        "    \"function\": {\n",
        "      \"name\": \"write_essay_on_research_topic\",\n",
        "      \"description\": \"Write an essay around 800 words based on the summeries of search results on the research topic\",\n",
        "      \"parameters\": {\n",
        "        \"type\": \"object\",\n",
        "        \"properties\": {\n",
        "          \"topic\": {\n",
        "            \"type\": \"string\",\n",
        "            \"description\": \"The main research topic\"\n",
        "          },\n",
        "          \"summeries\": {\n",
        "              \"type\": \"array\",\n",
        "              \"items\": {\n",
        "                  \"type\": \"string\"\n",
        "              },\n",
        "              \"description\": \"summeries on some search results on the Internet\"\n",
        "          },\n",
        "            \"essay\": {\n",
        "                \"type\": \"string\",\n",
        "                \"description\": \"The essay written based on the summeries\"\n",
        "            }\n",
        "        },\n",
        "        \"required\": [\"topic\", \"summeries\"]\n",
        "      },\n",
        "    }\n",
        "}\n",
        "tools = [topic_breakdown_tool, query_expansion_tool, combine_queries_tool, write_essay_tool]"
      ],
      "metadata": {
        "id": "LhSzAd_dBlwm"
      },
      "execution_count": 84,
      "outputs": []
    },
    {
      "cell_type": "code",
      "source": [
        "print(tools)"
      ],
      "metadata": {
        "colab": {
          "base_uri": "https://localhost:8080/"
        },
        "id": "lKC0HDTYGZSM",
        "outputId": "dc92d5fe-43b7-4edc-9a20-54dbc67deeea"
      },
      "execution_count": 48,
      "outputs": [
        {
          "output_type": "stream",
          "name": "stdout",
          "text": [
            "[{'type': 'function', 'function': {'name': 'break_down_topic', 'description': 'Take the broad research topic and break it down into 3 smaller, more focused subtopics or subqueries', 'parameters': {'type': 'object', 'properties': {'topic': {'type': 'string', 'description': 'The broad research topic to break down'}, 'area': {'type': 'string', 'description': 'The research area this topic belongs to'}, 'subtopics': {'type': 'array', 'description': 'The 3 subtopics that the topic could be broke down into'}}, 'required': ['topic']}}}, {'type': 'function', 'function': {'name': 'query_expansion_tool', 'description': 'Expand the subtopic to related keyword, synonyms and phrases (3 total) to enhance the web search results', 'parameters': {'type': 'object', 'properties': {'subtopic': {'type': 'string', 'description': 'The sub-topic from a broader topic'}, 'subqueries': {'type': 'array', 'description': 'The 3 subqueries related to the subtopic which are generated to enhance the future search results'}}, 'required': ['subtopics']}}}, {'type': 'function', 'function': {'name': 'combine_queries', 'description': 'Combine expanded subqueries and keywords to generate the 3 most relevant queries to the main topic for enhanced search results', 'parameters': {'type': 'object', 'properties': {'topic': {'type': 'string', 'description': 'The main research topic'}, 'subqueries': {'type': 'array', 'items': {'type': 'string'}, 'description': 'The expanded subqueries and keywords related to the topic'}, 'search_queries': {'type': 'array', 'items': {'type': 'string'}, 'description': 'The 3 most relevant combined queries ready for search'}}, 'required': ['subqueries']}}}, {'type': 'function', 'function': {'name': 'write_essay_on_research_topic', 'description': 'Write an essay around 800 words based on the summeries of search results on the research topic', 'parameters': {'type': 'object', 'properties': {'topic': {'type': 'string', 'description': 'The main research topic'}, 'summeries': {'type': 'array', 'items': {'type': 'string'}, 'description': 'summeries on some search results on the Internet'}, 'essay': {'type': 'string', 'description': 'The essay written based on the summeries'}}, 'required': ['topic', 'summeries']}}}]\n"
          ]
        }
      ]
    },
    {
      "cell_type": "code",
      "source": [],
      "metadata": {
        "id": "_Tzy3tEKFv79"
      },
      "execution_count": 42,
      "outputs": []
    },
    {
      "cell_type": "markdown",
      "source": [
        "### Methods definition"
      ],
      "metadata": {
        "id": "0P9htaTmygJP"
      }
    },
    {
      "cell_type": "code",
      "source": [
        "def break_down_topic(research_topic: str) -> List[str]:\n",
        "    \"\"\"\n",
        "    Breaks down the given research topic into subtopics using a tool (3 subtopics, in a list).\n",
        "    @param research_topic (str): The research topic to be broken down.\n",
        "    @return List[str]: A list of subtopics derived from the main topic.\n",
        "    \"\"\"\n",
        "    messages=[\n",
        "        {\"role\": \"system\", \"content\": \"You are a helpful research assistant.\"},\n",
        "        {\"role\": \"user\", \"content\": research_topic}\n",
        "    ]\n",
        "    breakdown_topics = client.chat.completions.create(\n",
        "        model=model,\n",
        "        messages=messages,\n",
        "        tools=tools,\n",
        "        tool_choice=\"auto\",\n",
        "    )\n",
        "    parsed_data: dict = json.loads(breakdown_topics.choices[0].message.dict()['tool_calls'][0]['function']['arguments'])\n",
        "    subtopics = parsed_data['subtopics']\n",
        "    return subtopics\n",
        "\n",
        "def expand_query(subtopics: List[str]) -> List[str]:\n",
        "    \"\"\"\n",
        "    Given subtopics from breaking down the main topic, expand them to related keywords, phrases, 3 total\n",
        "    @param subtopics List[str]: subtopics list from break_down_tool\n",
        "    @return the expanded queries, each subtopic in a string, each string contains 3 related phrases, e.g.,:\n",
        "    ['Climate change effects on military operations, Climate change and military planning, Climate change and military logistics',\n",
        "    'climate change effects on logistics, climate change effects on supply chains, logistics and supply chain resilience to climate change',\n",
        "    'climate change, conflict, security, environmental refugees, food insecurity, water scarcity, extreme weather events, natural disasters,\n",
        "    displacement, migration, adaptation, mitigation']\n",
        "    \"\"\"\n",
        "    expanded_queries = []\n",
        "    for subtopic in subtopics:\n",
        "        messages = [\n",
        "            {\"role\": \"system\", \"content\": \"You are a helpful research assistant.\"},\n",
        "            {\"role\": \"user\", \"content\": f\"Expand this {subtopic=} into subqueries (keywords, phrases... 3 total)\"}\n",
        "        ]\n",
        "        response = client.chat.completions.create(\n",
        "            model=model,\n",
        "            messages=messages,\n",
        "            tools=tools,\n",
        "            tool_choice=\"auto\",\n",
        "        )\n",
        "        parsed_data: dict = json.loads(response.choices[0].message.dict()['tool_calls'][0]['function']['arguments'])\n",
        "        expanded_query_info = parsed_data['subqueries']\n",
        "        expanded_queries.append(expanded_query_info)\n",
        "    return expanded_queries\n",
        "\n",
        "def gen_queries(topic: str, subqueries: List[str]) -> List[str]:\n",
        "    \"\"\"\n",
        "    To make efficient web search, combine subqueries from expand_query_tool into 3 most relevant queries.\n",
        "    @param topic str: the main search topic\n",
        "    @param subqueries List[str]: expanded queries from expand_query_tool\n",
        "    @return queries_for_search List[str]: 3 most relevant queries, used for API web search, e.g.,\n",
        "    ['Climate change effects on military operations and planning', 'Climate change and logistics resilience',\n",
        "    'Climate change and conflict, security, and migration']\n",
        "    \"\"\"\n",
        "    messages=[\n",
        "        {\"role\": \"system\", \"content\": \"You are a helpful research assistant. Help me combine the subqueries to 3 queries\"},\n",
        "        {\"role\": \"user\", \"content\": f\"Combine {subqueries=} and main topic {topic=}, rephrase 3 most relevant search queries on the topic\"}\n",
        "    ]\n",
        "    relevant_queries = client.chat.completions.create(\n",
        "        model=model,\n",
        "        messages=messages,\n",
        "        tools=tools,\n",
        "        tool_choice=\"auto\",\n",
        "    )\n",
        "    parsed_data: dict = json.loads(relevant_queries.choices[0].message.dict()['tool_calls'][0]['function']['arguments'])\n",
        "    queries_for_search = parsed_data['search_queries']\n",
        "    return queries_for_search\n",
        "\n",
        "def _collect_search_results(results) -> List[str]:\n",
        "    sources = []\n",
        "    stop_at: int = 2000\n",
        "    flag = True\n",
        "    for _ in results['hits']:\n",
        "        if flag and len(_['snippets']) > 0:\n",
        "            for s in _['snippets']:\n",
        "                sources.append(s)\n",
        "                stop_at -= len(s)\n",
        "                # print(f\"item in snippets lenth: {len(s)}, current words: {2000 - stop_at}\")\n",
        "                if stop_at < 0:\n",
        "                    flag = False\n",
        "                    break\n",
        "    return sources\n",
        "\n",
        "def _gen_summary(sub_query: str, sources: List[str]):\n",
        "    messages=[\n",
        "        {\"role\": \"system\", \"content\": \"You are a helpful research assistant.\"},\n",
        "        {\"role\": \"user\", \"content\": f\"given the topic: {sub_query} and search results {sources}, generate a 200 words summary on the topic\"}\n",
        "    ]\n",
        "    print(messages)\n",
        "    result = client.chat.completions.create(\n",
        "        model=model,\n",
        "        messages=messages,\n",
        "        max_tokens=200,\n",
        "        tools=tools,\n",
        "        tool_choice=\"auto\",\n",
        "    )\n",
        "    print(result)\n",
        "    # return relevant_queries\n",
        "    # parsed_data: dict = json.loads(relevant_queries.choices[0].message.dict()['tool_calls'][0]['function']['arguments'])\n",
        "    summary = json.dumps(result.choices[0].message.content)\n",
        "    # queries_for_search = parsed_data['search_queries']\n",
        "    # summary: dict = json.loads(result.choices[0].message.dict()['content'])\n",
        "    return summary.strip()\n",
        "\n",
        "def web_search(queries: List[str]) -> List[str]:\n",
        "    summeries = []\n",
        "    results = []\n",
        "    for query in queries:\n",
        "        results = get_ai_snippets_for_query(query)\n",
        "        sources = _collect_search_results(results)\n",
        "        summary = _gen_summary(query, sources)\n",
        "        summeries.append(summary)\n",
        "    return summeries\n",
        "\n",
        "def write_research_essay(summeries: List[str], topic: str):\n",
        "    messages=[\n",
        "        {\"role\": \"system\", \"content\": \"You are a helpful research assistant.\"},\n",
        "        {\"role\": \"user\", \"content\": f\"given the topic: {topic} and search results summeries {summeries}, generate an 800 words essay on the topic\"}\n",
        "    ]\n",
        "    result = client.chat.completions.create(\n",
        "        model=model,\n",
        "        messages=messages,\n",
        "        max_tokens=400,\n",
        "        tools=tools,\n",
        "        tool_choice=\"write_essay_on_research_topic\",\n",
        "    )\n",
        "    print(result)\n",
        "    return result\n",
        "\n",
        "def critique_essay(essay: str, topic: str):\n",
        "    messages=[\n",
        "        {\"role\": \"system\", \"content\": \"You are a helpful research assistant.\"},\n",
        "        {\"role\": \"user\", \"content\": f\"given the topic: {topic} and essay: \\n{essay}\\n Please revise and improve the essay to make it more fluent and complete.\"}\n",
        "    ]\n",
        "    result = client.chat.completions.create(\n",
        "        model=model,\n",
        "        messages=messages,\n",
        "        max_tokens=400,\n",
        "    )\n",
        "    print(result)\n",
        "    return result"
      ],
      "metadata": {
        "id": "AoTw0dzqF8UZ"
      },
      "execution_count": 89,
      "outputs": []
    },
    {
      "cell_type": "markdown",
      "source": [
        "## TEST"
      ],
      "metadata": {
        "id": "LDBPVUq37eer"
      }
    },
    {
      "cell_type": "code",
      "source": [
        "research_topic: str = \"The impact of climate changes on World War\""
      ],
      "metadata": {
        "id": "zVZlL3ro70ge"
      },
      "execution_count": 8,
      "outputs": []
    },
    {
      "cell_type": "markdown",
      "source": [
        "### TEST Break down"
      ],
      "metadata": {
        "id": "IW5ExJy87wYa"
      }
    },
    {
      "cell_type": "code",
      "source": [
        "subtopics: List[str] = break_down_topic(research_topic)"
      ],
      "metadata": {
        "id": "H1UYWHke7eA4"
      },
      "execution_count": null,
      "outputs": []
    },
    {
      "cell_type": "markdown",
      "source": [
        "### TEST Expand Subqueries"
      ],
      "metadata": {
        "id": "JoZK9VYd-DBD"
      }
    },
    {
      "cell_type": "code",
      "source": [
        "expanded_queries: List[str] = expand_query(subtopics)"
      ],
      "metadata": {
        "colab": {
          "base_uri": "https://localhost:8080/"
        },
        "id": "iEtlGGmT-Crv",
        "outputId": "8c874737-9fa9-4de7-cbc4-969d5acd92bb"
      },
      "execution_count": 81,
      "outputs": [
        {
          "output_type": "stream",
          "name": "stdout",
          "text": [
            "[{'role': 'system', 'content': 'You are a helpful research assistant.'}, {'role': 'user', 'content': \"Expand this subtopic='Climate change and its effects on military operations' into subqueries (keywords, phrases... 3 total)\"}]\n",
            "ChatCompletion(id='87665d599944677d-ATL', choices=[Choice(finish_reason='tool_calls', index=0, logprobs=None, message=ChatCompletionMessage(content=None, role='assistant', function_call=None, tool_calls=[ChatCompletionMessageToolCall(id='call_yz3bbikm29eezbzctl1mt3b4', function=Function(arguments='{\"subtopic\":\"Climate change and its effects on military operations\",\"subqueries\":\"Climate change effects on military operations, Climate change and military planning, Climate change and military logistics\"}', name='expand_subtopic'), type='function')]))], created=1713461237, model='mistralai/Mistral-7B-Instruct-v0.1', object='chat.completion', system_fingerprint=None, usage=CompletionUsage(completion_tokens=72, prompt_tokens=956, total_tokens=1028), prompt=[])\n",
            "[{'role': 'system', 'content': 'You are a helpful research assistant.'}, {'role': 'user', 'content': \"Expand this subtopic='Climate change and its effects on logistics and supply chains' into subqueries (keywords, phrases... 3 total)\"}]\n",
            "ChatCompletion(id='87665d618f10677d-ATL', choices=[Choice(finish_reason='tool_calls', index=0, logprobs=None, message=ChatCompletionMessage(content=None, role='assistant', function_call=None, tool_calls=[ChatCompletionMessageToolCall(id='call_8fiz6z0zwwh2hugopm7givdm', function=Function(arguments='{\"subtopic\":\"Climate change and its effects on logistics and supply chains\",\"subqueries\":\"climate change effects on logistics, climate change effects on supply chains, logistics and supply chain resilience to climate change\"}', name='expand_subtopic'), type='function')]))], created=1713461239, model='mistralai/Mistral-7B-Instruct-v0.1', object='chat.completion', system_fingerprint=None, usage=CompletionUsage(completion_tokens=79, prompt_tokens=959, total_tokens=1038), prompt=[])\n",
            "[{'role': 'system', 'content': 'You are a helpful research assistant.'}, {'role': 'user', 'content': \"Expand this subtopic='Climate change and its effects on conflict and security' into subqueries (keywords, phrases... 3 total)\"}]\n",
            "ChatCompletion(id='87665d69ada4677d-ATL', choices=[Choice(finish_reason='tool_calls', index=0, logprobs=None, message=ChatCompletionMessage(content=None, role='assistant', function_call=None, tool_calls=[ChatCompletionMessageToolCall(id='call_bb98ax0o19tvwkdulhxbc04w', function=Function(arguments='{\"subtopic\":\"Climate change and its effects on conflict and security\",\"subqueries\":\"climate change, conflict, security, environmental refugees, food insecurity, water scarcity, extreme weather events, natural disasters, displacement, migration, adaptation, mitigation\"}', name='expand_subtopic'), type='function')]))], created=1713461240, model='mistralai/Mistral-7B-Instruct-v0.1', object='chat.completion', system_fingerprint=None, usage=CompletionUsage(completion_tokens=87, prompt_tokens=957, total_tokens=1044), prompt=[])\n"
          ]
        }
      ]
    },
    {
      "cell_type": "code",
      "source": [
        "print(expanded_queries)"
      ],
      "metadata": {
        "colab": {
          "base_uri": "https://localhost:8080/"
        },
        "id": "4Z-FD1y-Oq5C",
        "outputId": "2e61c0cc-2886-43fe-d15f-26a8e14aa674"
      },
      "execution_count": 83,
      "outputs": [
        {
          "output_type": "stream",
          "name": "stdout",
          "text": [
            "['Climate change effects on military operations, Climate change and military planning, Climate change and military logistics', 'climate change effects on logistics, climate change effects on supply chains, logistics and supply chain resilience to climate change', 'climate change, conflict, security, environmental refugees, food insecurity, water scarcity, extreme weather events, natural disasters, displacement, migration, adaptation, mitigation']\n"
          ]
        }
      ]
    },
    {
      "cell_type": "markdown",
      "source": [
        "### TEST Generate optimized search queries"
      ],
      "metadata": {
        "id": "Ii_OvcACQJXl"
      }
    },
    {
      "cell_type": "code",
      "source": [
        "queries_for_search = gen_queries(research_topic, expanded_queries)"
      ],
      "metadata": {
        "colab": {
          "base_uri": "https://localhost:8080/"
        },
        "id": "33FypTyDQypw",
        "outputId": "b9253d17-55a9-446f-92ed-45acd5a34e08"
      },
      "execution_count": 86,
      "outputs": [
        {
          "output_type": "stream",
          "name": "stdout",
          "text": [
            "ChatCompletion(id='87666468cbd3b0db-ATL', choices=[Choice(finish_reason='tool_calls', index=0, logprobs=None, message=ChatCompletionMessage(content=None, role='assistant', function_call=None, tool_calls=[ChatCompletionMessageToolCall(id='call_uf9rmq9ku0h3by5p8dwex921', function=Function(arguments='{\"topic\":\"The impact of climate changes on World War\",\"subqueries\":[\"Climate change effects on military operations, Climate change and military planning, Climate change and military logistics\",\"climate change effects on logistics, climate change effects on supply chains, logistics and supply chain resilience to climate change\",\"climate change, conflict, security, environmental refugees, food insecurity, water scarcity, extreme weather events, natural disasters, displacement, migration, adaptation, mitigation\"],\"search_queries\":[\"Climate change effects on military operations and planning\",\"Climate change and logistics resilience\",\"Climate change and conflict, security, and migration\"]}', name='combine_queries_tool'), type='function')]))], created=1713461528, model='mistralai/Mistral-7B-Instruct-v0.1', object='chat.completion', system_fingerprint=None, usage=CompletionUsage(completion_tokens=207, prompt_tokens=1060, total_tokens=1267), prompt=[])\n"
          ]
        }
      ]
    },
    {
      "cell_type": "code",
      "source": [
        "print(queries_for_search)"
      ],
      "metadata": {
        "colab": {
          "base_uri": "https://localhost:8080/"
        },
        "id": "WwPsWwJoRHvT",
        "outputId": "cb5bcb2d-68a4-426c-e49b-b805cb2e9b53"
      },
      "execution_count": 87,
      "outputs": [
        {
          "output_type": "stream",
          "name": "stdout",
          "text": [
            "['Climate change effects on military operations and planning', 'Climate change and logistics resilience', 'Climate change and conflict, security, and migration']\n"
          ]
        }
      ]
    },
    {
      "cell_type": "markdown",
      "source": [
        "### TEST Web search"
      ],
      "metadata": {
        "id": "TnKIRiAvVFQe"
      }
    },
    {
      "cell_type": "code",
      "source": [
        "print(response)\n",
        "# Need to parse the arguments string\n",
        "parsed_data = json.loads(response.choices[0].message.dict()['tool_calls'][0]['function']['arguments'])\n",
        "print(parsed_data['subtopics'])\n",
        "type(parsed_data)"
      ],
      "metadata": {
        "colab": {
          "base_uri": "https://localhost:8080/",
          "height": 211
        },
        "id": "D_vQTHejHjsj",
        "outputId": "ec2756e6-7881-4d03-8263-102398d40ac1"
      },
      "execution_count": null,
      "outputs": [
        {
          "output_type": "error",
          "ename": "NameError",
          "evalue": "name 'response' is not defined",
          "traceback": [
            "\u001b[0;31m---------------------------------------------------------------------------\u001b[0m",
            "\u001b[0;31mNameError\u001b[0m                                 Traceback (most recent call last)",
            "\u001b[0;32m<ipython-input-1-86af3c31a4df>\u001b[0m in \u001b[0;36m<cell line: 1>\u001b[0;34m()\u001b[0m\n\u001b[0;32m----> 1\u001b[0;31m \u001b[0mprint\u001b[0m\u001b[0;34m(\u001b[0m\u001b[0mresponse\u001b[0m\u001b[0;34m)\u001b[0m\u001b[0;34m\u001b[0m\u001b[0;34m\u001b[0m\u001b[0m\n\u001b[0m\u001b[1;32m      2\u001b[0m \u001b[0;31m# Need to parse the arguments string\u001b[0m\u001b[0;34m\u001b[0m\u001b[0;34m\u001b[0m\u001b[0m\n\u001b[1;32m      3\u001b[0m \u001b[0mparsed_data\u001b[0m \u001b[0;34m=\u001b[0m \u001b[0mjson\u001b[0m\u001b[0;34m.\u001b[0m\u001b[0mloads\u001b[0m\u001b[0;34m(\u001b[0m\u001b[0mresponse\u001b[0m\u001b[0;34m.\u001b[0m\u001b[0mchoices\u001b[0m\u001b[0;34m[\u001b[0m\u001b[0;36m0\u001b[0m\u001b[0;34m]\u001b[0m\u001b[0;34m.\u001b[0m\u001b[0mmessage\u001b[0m\u001b[0;34m.\u001b[0m\u001b[0mdict\u001b[0m\u001b[0;34m(\u001b[0m\u001b[0;34m)\u001b[0m\u001b[0;34m[\u001b[0m\u001b[0;34m'tool_calls'\u001b[0m\u001b[0;34m]\u001b[0m\u001b[0;34m[\u001b[0m\u001b[0;36m0\u001b[0m\u001b[0;34m]\u001b[0m\u001b[0;34m[\u001b[0m\u001b[0;34m'function'\u001b[0m\u001b[0;34m]\u001b[0m\u001b[0;34m[\u001b[0m\u001b[0;34m'arguments'\u001b[0m\u001b[0;34m]\u001b[0m\u001b[0;34m)\u001b[0m\u001b[0;34m\u001b[0m\u001b[0;34m\u001b[0m\u001b[0m\n\u001b[1;32m      4\u001b[0m \u001b[0mprint\u001b[0m\u001b[0;34m(\u001b[0m\u001b[0mparsed_data\u001b[0m\u001b[0;34m[\u001b[0m\u001b[0;34m'subtopics'\u001b[0m\u001b[0;34m]\u001b[0m\u001b[0;34m)\u001b[0m\u001b[0;34m\u001b[0m\u001b[0;34m\u001b[0m\u001b[0m\n\u001b[1;32m      5\u001b[0m \u001b[0mtype\u001b[0m\u001b[0;34m(\u001b[0m\u001b[0mparsed_data\u001b[0m\u001b[0;34m)\u001b[0m\u001b[0;34m\u001b[0m\u001b[0;34m\u001b[0m\u001b[0m\n",
            "\u001b[0;31mNameError\u001b[0m: name 'response' is not defined"
          ]
        }
      ]
    },
    {
      "cell_type": "code",
      "source": [
        "# temp\n",
        "print(queries)\n",
        "summeries = []\n",
        "for query in queries:\n",
        "    results = get_ai_snippets_for_query(query)\n",
        "    sources = collect_search_results(results)\n",
        "    summary = gen_summary(query, sources)\n",
        "    summeries.append(summary)\n",
        "\n"
      ],
      "metadata": {
        "id": "nTf1kHAN2s-a"
      },
      "execution_count": null,
      "outputs": []
    },
    {
      "cell_type": "code",
      "source": [
        "test_break_down = break_down_topic(\"The impact of climate changes on World War\")\n",
        "print(test_break_down)"
      ],
      "metadata": {
        "colab": {
          "base_uri": "https://localhost:8080/"
        },
        "id": "G-EhE-jt7GwZ",
        "outputId": "e6cf78e9-25b2-49c2-bfc7-69d673b5636b"
      },
      "execution_count": null,
      "outputs": [
        {
          "output_type": "stream",
          "name": "stdout",
          "text": [
            "{\n",
            "  \"id\": \"875fd68a58918f14-IAD\",\n",
            "  \"choices\": [\n",
            "    {\n",
            "      \"finish_reason\": \"tool_calls\",\n",
            "      \"index\": 0,\n",
            "      \"logprobs\": null,\n",
            "      \"message\": {\n",
            "        \"content\": null,\n",
            "        \"role\": \"assistant\",\n",
            "        \"function_call\": null,\n",
            "        \"tool_calls\": [\n",
            "          {\n",
            "            \"id\": \"call_8k01tvzvaaa37o0ujkasslqt\",\n",
            "            \"function\": {\n",
            "              \"arguments\": \"{\\\"topic\\\":\\\"The impact of climate changes on World War\\\",\\\"area\\\":\\\"Environmental Science\\\",\\\"subtopics\\\":[\\\"Climate change and its effects on military operations\\\",\\\"Climate change and its effects on logistics and supply chains\\\",\\\"Climate change and its effects on conflict and security\\\"]}\",\n",
            "              \"name\": \"break_down_topic\"\n",
            "            },\n",
            "            \"type\": \"function\"\n",
            "          }\n",
            "        ]\n",
            "      }\n",
            "    }\n",
            "  ],\n",
            "  \"created\": 1713392801,\n",
            "  \"model\": \"mistralai/Mistral-7B-Instruct-v0.1\",\n",
            "  \"object\": \"chat.completion\",\n",
            "  \"system_fingerprint\": null,\n",
            "  \"usage\": {\n",
            "    \"completion_tokens\": 104,\n",
            "    \"prompt_tokens\": 455,\n",
            "    \"total_tokens\": 559\n",
            "  },\n",
            "  \"prompt\": []\n",
            "}\n",
            "['Climate change and its effects on military operations', 'Climate change and its effects on logistics and supply chains', 'Climate change and its effects on conflict and security']\n"
          ]
        }
      ]
    },
    {
      "cell_type": "code",
      "source": [
        "test_expand_query = expand_query(test_break_down)\n",
        "print(test_expand_query)\n",
        "for m in test_expand_query:\n",
        "    print(m)\n",
        "# print(test_expand_query)\n",
        "\n",
        "# 2D -> 1D\n",
        "flat_queries = [item for child in test_expand_query for item in child]\n",
        "# flat_queries = flat_queries[:6]\n",
        "print(flat_queries)"
      ],
      "metadata": {
        "colab": {
          "base_uri": "https://localhost:8080/"
        },
        "id": "sdt31lmMBwVz",
        "outputId": "66fe50b3-6784-449c-f2da-cb448b67c0cd"
      },
      "execution_count": null,
      "outputs": [
        {
          "output_type": "stream",
          "name": "stdout",
          "text": [
            "[['Climate change and military operations', 'Military operations in the context of climate change', 'Climate change and its impact on military readiness'], ['Climate change and logistics', 'Climate change and supply chain management', 'Climate change and transportation'], ['Climate-induced migration and displacement', 'Climate-related natural disasters and conflict', 'Climate change and food security']]\n",
            "['Climate change and military operations', 'Military operations in the context of climate change', 'Climate change and its impact on military readiness']\n",
            "['Climate change and logistics', 'Climate change and supply chain management', 'Climate change and transportation']\n",
            "['Climate-induced migration and displacement', 'Climate-related natural disasters and conflict', 'Climate change and food security']\n",
            "['Climate change and military operations', 'Military operations in the context of climate change', 'Climate change and its impact on military readiness', 'Climate change and logistics', 'Climate change and supply chain management', 'Climate change and transportation', 'Climate-induced migration and displacement', 'Climate-related natural disasters and conflict', 'Climate change and food security']\n"
          ]
        }
      ]
    },
    {
      "cell_type": "code",
      "source": [
        "len(flat_queries)"
      ],
      "metadata": {
        "colab": {
          "base_uri": "https://localhost:8080/"
        },
        "id": "W5T-QDIFLZGn",
        "outputId": "769a8757-7bc8-422e-a06a-9b2bdb4ce0be"
      },
      "execution_count": null,
      "outputs": [
        {
          "output_type": "execute_result",
          "data": {
            "text/plain": [
              "9"
            ]
          },
          "metadata": {},
          "execution_count": 12
        }
      ]
    },
    {
      "cell_type": "code",
      "source": [
        "print(json.dumps(response.choices[0].message.dict()['tool_calls'], indent=2))\n"
      ],
      "metadata": {
        "colab": {
          "base_uri": "https://localhost:8080/"
        },
        "id": "HgfbOKPQJV_7",
        "outputId": "0a08c16a-fbc4-4982-8e1c-7f1c957ad3e5"
      },
      "execution_count": null,
      "outputs": [
        {
          "output_type": "stream",
          "name": "stdout",
          "text": [
            "[\n",
            "  {\n",
            "    \"id\": \"call_yab3foz7qrl11tkqy0wjdypz\",\n",
            "    \"function\": {\n",
            "      \"arguments\": \"{\\\"topic\\\":\\\"The Reflection mechanism in Java language\\\",\\\"area\\\":\\\"Computer Science\\\",\\\"subtopics\\\":[\\\"Reflection API\\\",\\\"Reflection in Java\\\",\\\"Reflection vs. Introspection\\\"],\\\"subqueries\\\":[\\\"Reflection API in Java\\\",\\\"Reflection in Java programming\\\",\\\"Reflection vs. Introspection in Java\\\"]}\",\n",
            "      \"name\": \"query_expansion\"\n",
            "    },\n",
            "    \"type\": \"function\"\n",
            "  }\n",
            "]\n"
          ]
        }
      ]
    },
    {
      "cell_type": "markdown",
      "source": [
        "### Analyze and Generate 3 most relavent queries"
      ],
      "metadata": {
        "id": "iVSAV6tqXine"
      }
    },
    {
      "cell_type": "code",
      "source": [
        "# Legacy\n",
        "combine_queries = {\n",
        "    \"type\": \"function\",\n",
        "    \"function\": {\n",
        "      \"name\": \"combine_queries\",\n",
        "      \"description\": \"Combine expanded subqueries and keywords to generate the 3 most relevant queries to the topic for enhanced search results\",\n",
        "      \"parameters\": {\n",
        "        \"type\": \"object\",\n",
        "        \"properties\": {\n",
        "          \"topic\": {\n",
        "            \"type\": \"string\",\n",
        "            \"description\": \"The broad research topic before breaking down\"\n",
        "          },\n",
        "          \"subqueries\": {\n",
        "              \"type\": \"array\",\n",
        "              \"items\": {\n",
        "                  \"type\": \"string\"\n",
        "              },\n",
        "              \"description\": \"The expanded subqueries and keywords related to the topic\"\n",
        "          },\n",
        "            \"output\": {\n",
        "                \"type\": \"array\",\n",
        "                \"items\": {\n",
        "                    \"type\": \"string\"\n",
        "                },\n",
        "                \"description\": \"The 3 most relevant combined queries ready for search\"\n",
        "            }\n",
        "        },\n",
        "        \"required\": [\"subqueries\"]\n",
        "      },\n",
        "    }\n",
        "}"
      ],
      "metadata": {
        "id": "UxJbOpAmXiRG"
      },
      "execution_count": null,
      "outputs": []
    },
    {
      "cell_type": "code",
      "source": [
        "# test_break_down = break_down_topic(\"The impact of Stoicism on early Christianity\")\n",
        "test_topic = \"The impact of climate changes on World War\"\n",
        "format_test_gen_queries = gen_queries_test(test_topic, flat_queries)\n",
        "print(format_test_gen_queries)"
      ],
      "metadata": {
        "colab": {
          "base_uri": "https://localhost:8080/",
          "height": 369
        },
        "id": "XgnqmYgUwWZW",
        "outputId": "091db54e-c316-44bf-ce64-f803782dd5c9"
      },
      "execution_count": null,
      "outputs": [
        {
          "output_type": "stream",
          "name": "stdout",
          "text": [
            "[{'role': 'system', 'content': 'You are a helpful research assistant. Help me combine the subqueries to 3 queries'}, {'role': 'user', 'content': \"given ['Climate change and military operations', 'Military operations in the context of climate change', 'Climate change and its impact on military readiness', 'Climate change and logistics', 'Climate change and supply chain management', 'Climate change and transportation', 'Climate-induced migration and displacement', 'Climate-related natural disasters and conflict', 'Climate change and food security'] and main topic The impact of climate changes on World War, rephrase 3 most relevant search queries on the topic\"}]\n",
            "ChatCompletion(id='875fdc02cd7f7ffa-IAD', choices=[Choice(finish_reason='eos', index=0, logprobs=None, message=ChatCompletionMessage(content=' 1. \"Climate change and military operations\"\\n2. \"Military operations in the context of climate change\"\\n3. \"Climate change and its impact on military readiness\"', role='assistant', function_call=None, tool_calls=None))], created=1713393024, model='mistralai/Mistral-7B-Instruct-v0.1', object='chat.completion', system_fingerprint=None, usage=CompletionUsage(completion_tokens=41, prompt_tokens=814, total_tokens=855), prompt=[])\n"
          ]
        },
        {
          "output_type": "error",
          "ename": "TypeError",
          "evalue": "'NoneType' object is not subscriptable",
          "traceback": [
            "\u001b[0;31m---------------------------------------------------------------------------\u001b[0m",
            "\u001b[0;31mTypeError\u001b[0m                                 Traceback (most recent call last)",
            "\u001b[0;32m<ipython-input-16-c2cc24eeb1bc>\u001b[0m in \u001b[0;36m<cell line: 3>\u001b[0;34m()\u001b[0m\n\u001b[1;32m      1\u001b[0m \u001b[0;31m# test_break_down = break_down_topic(\"The impact of Stoicism on early Christianity\")\u001b[0m\u001b[0;34m\u001b[0m\u001b[0;34m\u001b[0m\u001b[0m\n\u001b[1;32m      2\u001b[0m \u001b[0mtest_topic\u001b[0m \u001b[0;34m=\u001b[0m \u001b[0;34m\"The impact of climate changes on World War\"\u001b[0m\u001b[0;34m\u001b[0m\u001b[0;34m\u001b[0m\u001b[0m\n\u001b[0;32m----> 3\u001b[0;31m \u001b[0mformat_test_gen_queries\u001b[0m \u001b[0;34m=\u001b[0m \u001b[0mgen_queries_test\u001b[0m\u001b[0;34m(\u001b[0m\u001b[0mtest_topic\u001b[0m\u001b[0;34m,\u001b[0m \u001b[0mflat_queries\u001b[0m\u001b[0;34m)\u001b[0m\u001b[0;34m\u001b[0m\u001b[0;34m\u001b[0m\u001b[0m\n\u001b[0m\u001b[1;32m      4\u001b[0m \u001b[0mprint\u001b[0m\u001b[0;34m(\u001b[0m\u001b[0mformat_test_gen_queries\u001b[0m\u001b[0;34m)\u001b[0m\u001b[0;34m\u001b[0m\u001b[0;34m\u001b[0m\u001b[0m\n",
            "\u001b[0;32m<ipython-input-15-296147351f50>\u001b[0m in \u001b[0;36mgen_queries_test\u001b[0;34m(topic, subqueries)\u001b[0m\n\u001b[1;32m     14\u001b[0m     \u001b[0mprint\u001b[0m\u001b[0;34m(\u001b[0m\u001b[0mrelevant_queries\u001b[0m\u001b[0;34m)\u001b[0m\u001b[0;34m\u001b[0m\u001b[0;34m\u001b[0m\u001b[0m\n\u001b[1;32m     15\u001b[0m     \u001b[0;31m# return relevant_queries\u001b[0m\u001b[0;34m\u001b[0m\u001b[0;34m\u001b[0m\u001b[0m\n\u001b[0;32m---> 16\u001b[0;31m     \u001b[0mparsed_data\u001b[0m\u001b[0;34m:\u001b[0m \u001b[0mdict\u001b[0m \u001b[0;34m=\u001b[0m \u001b[0mjson\u001b[0m\u001b[0;34m.\u001b[0m\u001b[0mloads\u001b[0m\u001b[0;34m(\u001b[0m\u001b[0mrelevant_queries\u001b[0m\u001b[0;34m.\u001b[0m\u001b[0mchoices\u001b[0m\u001b[0;34m[\u001b[0m\u001b[0;36m0\u001b[0m\u001b[0;34m]\u001b[0m\u001b[0;34m.\u001b[0m\u001b[0mmessage\u001b[0m\u001b[0;34m.\u001b[0m\u001b[0mdict\u001b[0m\u001b[0;34m(\u001b[0m\u001b[0;34m)\u001b[0m\u001b[0;34m[\u001b[0m\u001b[0;34m'tool_calls'\u001b[0m\u001b[0;34m]\u001b[0m\u001b[0;34m[\u001b[0m\u001b[0;36m0\u001b[0m\u001b[0;34m]\u001b[0m\u001b[0;34m[\u001b[0m\u001b[0;34m'function'\u001b[0m\u001b[0;34m]\u001b[0m\u001b[0;34m[\u001b[0m\u001b[0;34m'arguments'\u001b[0m\u001b[0;34m]\u001b[0m\u001b[0;34m)\u001b[0m\u001b[0;34m\u001b[0m\u001b[0;34m\u001b[0m\u001b[0m\n\u001b[0m\u001b[1;32m     17\u001b[0m     \u001b[0mqueries_for_search\u001b[0m \u001b[0;34m=\u001b[0m \u001b[0mparsed_data\u001b[0m\u001b[0;34m[\u001b[0m\u001b[0;34m'search_queries'\u001b[0m\u001b[0;34m]\u001b[0m\u001b[0;34m\u001b[0m\u001b[0;34m\u001b[0m\u001b[0m\n\u001b[1;32m     18\u001b[0m     \u001b[0;32mreturn\u001b[0m \u001b[0mqueries_for_search\u001b[0m\u001b[0;34m\u001b[0m\u001b[0;34m\u001b[0m\u001b[0m\n",
            "\u001b[0;31mTypeError\u001b[0m: 'NoneType' object is not subscriptable"
          ]
        }
      ]
    },
    {
      "cell_type": "code",
      "source": [
        "print(json.dumps(format_test_gen_queries.dict(), indent=2))"
      ],
      "metadata": {
        "colab": {
          "base_uri": "https://localhost:8080/",
          "height": 141
        },
        "id": "I0t2pGJow5He",
        "outputId": "7ed3ad4e-f5bb-4556-e567-7a30548b6933"
      },
      "execution_count": null,
      "outputs": [
        {
          "output_type": "error",
          "ename": "NameError",
          "evalue": "name 'format_test_gen_queries' is not defined",
          "traceback": [
            "\u001b[0;31m---------------------------------------------------------------------------\u001b[0m",
            "\u001b[0;31mNameError\u001b[0m                                 Traceback (most recent call last)",
            "\u001b[0;32m<ipython-input-19-9b2f440dcd1c>\u001b[0m in \u001b[0;36m<cell line: 1>\u001b[0;34m()\u001b[0m\n\u001b[0;32m----> 1\u001b[0;31m \u001b[0mprint\u001b[0m\u001b[0;34m(\u001b[0m\u001b[0mjson\u001b[0m\u001b[0;34m.\u001b[0m\u001b[0mdumps\u001b[0m\u001b[0;34m(\u001b[0m\u001b[0mformat_test_gen_queries\u001b[0m\u001b[0;34m.\u001b[0m\u001b[0mdict\u001b[0m\u001b[0;34m(\u001b[0m\u001b[0;34m)\u001b[0m\u001b[0;34m,\u001b[0m \u001b[0mindent\u001b[0m\u001b[0;34m=\u001b[0m\u001b[0;36m2\u001b[0m\u001b[0;34m)\u001b[0m\u001b[0;34m)\u001b[0m\u001b[0;34m\u001b[0m\u001b[0;34m\u001b[0m\u001b[0m\n\u001b[0m",
            "\u001b[0;31mNameError\u001b[0m: name 'format_test_gen_queries' is not defined"
          ]
        }
      ]
    },
    {
      "cell_type": "code",
      "source": [
        "# test_break_down = break_down_topic(\"The impact of Stoicism on early Christianity\")\n",
        "# test_topic = \"The impact of Stoicism on early Christianit\"\n",
        "test_gen_queries = gen_queries(test_topic, flat_queries)"
      ],
      "metadata": {
        "colab": {
          "base_uri": "https://localhost:8080/"
        },
        "id": "KJDDN870m7jx",
        "outputId": "2bd6cd78-905a-49a6-b33d-49b848dc8ba5"
      },
      "execution_count": null,
      "outputs": [
        {
          "output_type": "stream",
          "name": "stdout",
          "text": [
            "ChatCompletion(id='875fdfdc4de7802d-IAD', choices=[Choice(finish_reason='eos', index=0, logprobs=None, message=ChatCompletionMessage(content=' 1. \"Climate change and military operations\"\\n2. \"Climate change and logistics\"\\n3. \"Climate change and transportation\"', role='assistant', function_call=None, tool_calls=None))], created=1713393182, model='mistralai/Mistral-7B-Instruct-v0.1', object='chat.completion', system_fingerprint=None, usage=CompletionUsage(completion_tokens=33, prompt_tokens=1045, total_tokens=1078), prompt=[])\n"
          ]
        }
      ]
    },
    {
      "cell_type": "code",
      "source": [
        "a = test_gen_queries.choices[0].message.dict()['content'].split('\\n')\n",
        "b = [question.split('. ')[1].replace('\"', '') for question in a]\n",
        "# type(a)\n",
        "print(a)\n",
        "print(b)"
      ],
      "metadata": {
        "colab": {
          "base_uri": "https://localhost:8080/"
        },
        "id": "U33fy-P7oP95",
        "outputId": "359d42a8-f369-43d8-eb51-e091c74d5c08"
      },
      "execution_count": null,
      "outputs": [
        {
          "output_type": "stream",
          "name": "stdout",
          "text": [
            "[' 1. \"Climate change and military operations\"', '2. \"Climate change and logistics\"', '3. \"Climate change and transportation\"']\n",
            "['Climate change and military operations', 'Climate change and logistics', 'Climate change and transportation']\n"
          ]
        }
      ]
    },
    {
      "cell_type": "markdown",
      "source": [
        "### YOU Web Search"
      ],
      "metadata": {
        "id": "PXYfe4N8M0Jt"
      }
    },
    {
      "cell_type": "code",
      "source": [
        "# queries list\n",
        "queries = b\n",
        "type(queries)\n",
        "test_you_search_result = get_ai_snippets_for_query(queries[0])"
      ],
      "metadata": {
        "id": "NZD34g-BMm_D"
      },
      "execution_count": null,
      "outputs": []
    },
    {
      "cell_type": "code",
      "source": [
        "type(test_you_search_result)"
      ],
      "metadata": {
        "colab": {
          "base_uri": "https://localhost:8080/"
        },
        "id": "W22yq6KTwwCx",
        "outputId": "40c7365f-f4c1-49d7-d9ac-b09486eb7bec"
      },
      "execution_count": null,
      "outputs": [
        {
          "output_type": "execute_result",
          "data": {
            "text/plain": [
              "dict"
            ]
          },
          "metadata": {},
          "execution_count": 135
        }
      ]
    },
    {
      "cell_type": "code",
      "source": [
        "# temp\n",
        "print(queries)\n",
        "summeries = []\n",
        "for query in queries:\n",
        "    results = get_ai_snippets_for_query(query)\n",
        "    sources = collect_search_results(results)\n",
        "    summary = gen_summary(query, sources)\n",
        "    summeries.append(summary)\n"
      ],
      "metadata": {
        "colab": {
          "base_uri": "https://localhost:8080/"
        },
        "id": "-7lEB8-KvnNe",
        "outputId": "fdfb2bf7-23a1-4af5-ee8e-3fd3f71c6848"
      },
      "execution_count": null,
      "outputs": [
        {
          "output_type": "stream",
          "name": "stdout",
          "text": [
            "['Climate change and military operations', 'Climate change and logistics', 'Climate change and transportation']\n",
            "[{'role': 'system', 'content': 'You are a helpful research assistant.'}, {'role': 'user', 'content': \"given the topic: Climate change and military operations and search results ['These threats come in forms both direct and indirect, including direct threats to military installations from sea level rise and extreme droughts, and indirect threats through the exacerbation of instability in critical regions. Climate change presents risks to three elements of military effectiveness: readiness, operations and strategy.', 'Climate change presents risks to three elements of military effectiveness: readiness, operations and strategy. Readiness: Readiness refers to the ability of a military to carry out operations in a timely manner. This involves having a stable and secure military infrastructure, including bases, supplies and logistics, in order to carry out missions. Climate change effects such as sea level rise have the ability to compromise coastal military installations that are critical for such operations.', 'Climate change effects such as sea level rise have the ability to compromise coastal military installations that are critical for such operations. Other extreme weather events, such as droughts and flooding, can also put stresses on critical military infrastructure. Operations: Climate change effects impact military operations, whether they be war-fighting operations or humanitarian missions.', 'Other extreme weather events, such as droughts and flooding, can also put stresses on critical military infrastructure. Operations: Climate change effects impact military operations, whether they be war-fighting operations or humanitarian missions. For example, climate change can place significant burdens on the supply chains and logistical capacity of armed forces engaged in “theater.” Extreme drought or flooding in areas where militaries are engaged in warfighting, for example, can compromise water supply lines, and thus threaten military personnel directly.', 'But the changing climate is already imposing costs on the military and even challenging how well it can prepare to fight other nation states. “In terms of current operations, we have National Guardsmen, we have active-duty soldiers, we have active-duty airmen right now participating in firefighting support efforts. So these are...folks who are not doing a primary job. So right now we are experiencing climate change and effects.'], generate a 200 words summary on the topic\"}]\n",
            "ChatCompletion(id='8760db44dd720814-IAD', choices=[Choice(finish_reason='eos', index=0, logprobs=None, message=ChatCompletionMessage(content=' Climate change poses significant risks to military effectiveness, including readiness, operations, and strategy. Readiness refers to the ability of a military to carry out operations in a timely manner, which can be compromised by climate change effects such as sea level rise and extreme weather events. Operations can also be impacted by climate change, whether they be war-fighting operations or humanitarian missions, with extreme droughts or flooding putting stresses on critical military infrastructure. The changing climate is already imposing costs on the military and challenging how well it can prepare to fight other nation states.', role='assistant', function_call=None, tool_calls=None))], created=1713403481, model='mistralai/Mistral-7B-Instruct-v0.1', object='chat.completion', system_fingerprint=None, usage=CompletionUsage(completion_tokens=123, prompt_tokens=1399, total_tokens=1522), prompt=[])\n",
            "[{'role': 'system', 'content': 'You are a helpful research assistant.'}, {'role': 'user', 'content': 'given the topic: Climate change and logistics and search results [\\'By 2050, the European Environment Agency expects that global logistics will cause 40% of global carbon emissions without effective and effective measures. ... In the 2015 Paris Agreement, policymakers set out a global framework for the world to respond to dangerous climate change.\\', \\'The transport and logistics sector contributes around 24% to global CO2e emissions. Together we fight against climate change and for less greenhouse gas emissions. Climate-neutral logistics is our future.\\', \"Together we fight against climate change and for less greenhouse gas emissions. Climate-neutral logistics is our future. A greenhouse gas (or GHG) is any gas in the atmosphere that absorbs and releases heat, thereby keeping the planet\\'s atmosphere warmer than it would otherwise be.\", \\'In the 2015 Paris Agreement, policymakers set out a global framework for the world to respond to dangerous climate change. To this end, global warming should be kept well below 2°C and further efforts should be made to limit the temperature rise of 1.5°C. In addition, the ability of countries to adapt to the consequences of climate change should be strengthened and they should be supported in their efforts ( ec.europa.eu ; 2020).\\', \\'While nearly one-third of Pakistan was recently underwater due to devastating flooding, across the world wildfires burn out of control and droughts threaten swaths of the United States of America all the way down to Mexico. As the effects of climate change continue to unfold, supply chains are under pressure in new and unpredictable ways. So how can companies stay resilient throughout these unprecedented times? The answer may lie in the implementation of integrated logistics.\\', \\'Changes in demand and the challenges associated with an exceptionally globalised world of trade has meant that more and more companies are moving towards integrated logistics solutions to ease their movement of goods. Integrated logistics has many benefits, especially within an increasingly unstable world affected by climate change. Enter our world of truly integrated logistics. Be inspired and gain knowledge on relevant business insights, in a few clicks. Close\\'], generate a 200 words summary on the topic'}]\n",
            "ChatCompletion(id='8760db519d5d0814-IAD', choices=[Choice(finish_reason='length', index=0, logprobs=None, message=ChatCompletionMessage(content=\" The logistics industry is a significant contributor to global carbon emissions, with estimates suggesting that it accounts for around 24% of global CO2e emissions. As such, there is a growing focus on the need for climate-neutral logistics solutions that can help reduce the sector's carbon footprint. The European Environment Agency has set a target of reducing global logistics emissions by 40% by 2050, and policymakers have established a global framework for responding to dangerous climate change.\\n\\nOne of the key challenges facing the logistics industry is the need to adapt to changing weather patterns and other climate-related risks. For example, extreme weather events such as floods, wildfires, and droughts can disrupt supply chains and make it difficult for companies to move goods around the world. To address these challenges, many companies are turning to integrated logistics solutions that can help them stay resilient in the face of climate change.\\n\\n\", role='assistant', function_call=None, tool_calls=None))], created=1713403483, model='mistralai/Mistral-7B-Instruct-v0.1', object='chat.completion', system_fingerprint=None, usage=CompletionUsage(completion_tokens=200, prompt_tokens=1428, total_tokens=1628), prompt=[])\n",
            "[{'role': 'system', 'content': 'You are a helpful research assistant.'}, {'role': 'user', 'content': \"given the topic: Climate change and transportation and search results ['SmartWay helps the freight transportation sector improve supply chain efficiency, reducing greenhouse gases and saving fuel costs for companies who participate. Through SmartWay, EPA and its partners are making significant gains in the efficiency of how our nation moves goods, helping address air quality challenges, improving public health and reducing freight’s contribution to climate change.', 'The buildup of carbon dioxide (CO2) and other greenhouse gases like methane (CH4), nitrous oxide (N2O), and hydrofluorocarbons (HFCs) is causing the Earth’s atmosphere to warm, resulting in changes to the climate we are already starting to see today. \\\\u200bGreenhouse gas (GHG) emissions from transportation account for about 29 percent of total U.S. greenhouse gas emissions, making it the largest contributor of U.S. GHG emissions. Between 1990 and 2021, GHG emissions in the transportation sector increased more in absolute terms than any other sector.', 'Between 1990 and 2021, GHG emissions in the transportation sector increased more in absolute terms than any other sector. ... EPA is addressing climate change by taking the following actions to reduce GHG emissions from the transportation sector. Many of these programs have benefits beyond cutting carbon.', 'Burning fossil fuels like gasoline and diesel releases carbon dioxide, a greenhouse gas, into the atmosphere. The buildup of carbon dioxide (CO2) and other greenhouse gases like methane (CH4), nitrous oxide (N2O), and hydrofluorocarbons (HFCs) is causing the Earth’s atmosphere to warm, resulting in changes to the climate we are already starting to see today.', 'The effects of climate change are already impacting how we travel and damaging our infrastructure. That means the transportation sector, and the US Department of Transportation, can and must be one of the biggest parts of the solution to the climate crisis. Climate change presents huge challenges, and real opportunities to build a better transportation system.', 'That means the transportation sector, and the US Department of Transportation, can and must be one of the biggest parts of the solution to the climate crisis. Climate change presents huge challenges, and real opportunities to build a better transportation system. Addressing climate change is one of the top priorities of the Department of Transportation.'], generate a 200 words summary on the topic\"}]\n",
            "ChatCompletion(id='8760db649d650814-IAD', choices=[Choice(finish_reason='length', index=0, logprobs=None, message=ChatCompletionMessage(content=' The transportation sector is a significant contributor to greenhouse gas (GHG) emissions, accounting for about 29 percent of total U.S. GHG emissions. EPA is addressing climate change by taking the following actions to reduce GHG emissions from the transportation sector. Many of these programs have benefits beyond cutting carbon. Burning fossil fuels like gasoline and diesel releases carbon dioxide, a greenhouse gas, into the atmosphere. The buildup of carbon dioxide (CO2) and other greenhouse gases like methane (CH4), nitrous oxide (N2O), and hydrofluorocarbons (HFCs) is causing the Earth’s atmosphere to warm, resulting in changes to the climate we are already starting to see today. The effects of climate change are already impacting how we travel and damaging our infrastructure. That means the transportation sector, and the US Department of Transportation, can and must', role='assistant', function_call=None, tool_calls=None))], created=1713403487, model='mistralai/Mistral-7B-Instruct-v0.1', object='chat.completion', system_fingerprint=None, usage=CompletionUsage(completion_tokens=200, prompt_tokens=1485, total_tokens=1685), prompt=[])\n"
          ]
        }
      ]
    },
    {
      "cell_type": "code",
      "source": [
        "print(len(summeries))\n",
        "print(summeries[1])\n",
        "len_word:int = 0\n",
        "for _ in summeries:\n",
        "    len_word += len(_)\n",
        "print(len_word)"
      ],
      "metadata": {
        "colab": {
          "base_uri": "https://localhost:8080/"
        },
        "id": "3PvHhI0Cyt_f",
        "outputId": "cc2c50f3-1b51-4159-b56c-50690e82c48a"
      },
      "execution_count": null,
      "outputs": [
        {
          "output_type": "stream",
          "name": "stdout",
          "text": [
            "3\n",
            "\" The logistics industry is a significant contributor to global carbon emissions, with estimates suggesting that it accounts for around 24% of global CO2e emissions. As such, there is a growing focus on the need for climate-neutral logistics solutions that can help reduce the sector's carbon footprint. The European Environment Agency has set a target of reducing global logistics emissions by 40% by 2050, and policymakers have established a global framework for responding to dangerous climate change.\\n\\nOne of the key challenges facing the logistics industry is the need to adapt to changing weather patterns and other climate-related risks. For example, extreme weather events such as floods, wildfires, and droughts can disrupt supply chains and make it difficult for companies to move goods around the world. To address these challenges, many companies are turning to integrated logistics solutions that can help them stay resilient in the face of climate change.\\n\\n\"\n",
            "2512\n"
          ]
        }
      ]
    },
    {
      "cell_type": "code",
      "source": [
        "print(len(test_you_search_result))\n",
        "print(queries[0])\n",
        "print(test_you_search_result['hits'][0])\n",
        "# print(test_you_search_result['hits'][0].items())\n",
        "sources = []\n",
        "stop_at: int = 2000\n",
        "flag = True\n",
        "for _ in test_you_search_result['hits']:\n",
        "#     print(len(_))\n",
        "    # print(_['description'])\n",
        "    if flag and len(_['snippets']) > 0:\n",
        "        for s in _['snippets']:\n",
        "            sources.append(s)\n",
        "            stop_at -= len(s)\n",
        "            print(f\"item in snippets lenth: {len(s)}, current words: {2000 - stop_at}\")\n",
        "            if stop_at < 0:\n",
        "                flag = False\n",
        "                break\n",
        "    print(len(_['snippets']))\n",
        "    print(\"====\")"
      ],
      "metadata": {
        "colab": {
          "base_uri": "https://localhost:8080/"
        },
        "id": "8aG4vsuNM7_e",
        "outputId": "5686164a-909b-4a29-8973-286855838fe4"
      },
      "execution_count": null,
      "outputs": [
        {
          "output_type": "stream",
          "name": "stdout",
          "text": [
            "2\n",
            "Climate change and military operations\n",
            "{'description': \"Air University is the U.S. Air and Space Force's center for professional military education (PME). Air University provides full-spectrum education, research and outreach at every level through professional military education, professional continuing education and academic degree granting.\", 'snippets': [], 'title': 'The Implications of Climate Change for the Military and for ...', 'url': 'https://www.airuniversity.af.edu/Portals/10/ASPJ_French/journals_E/Volume-07_Issue-3/scottkhan_e.pdf'}\n",
            "0\n",
            "====\n",
            "item in snippets lenth: 339, current words: 339\n",
            "item in snippets lenth: 497, current words: 836\n",
            "item in snippets lenth: 395, current words: 1231\n",
            "item in snippets lenth: 566, current words: 1797\n",
            "4\n",
            "====\n",
            "item in snippets lenth: 431, current words: 2228\n",
            "4\n",
            "====\n",
            "4\n",
            "====\n",
            "4\n",
            "====\n",
            "1\n",
            "====\n",
            "4\n",
            "====\n",
            "0\n",
            "====\n",
            "1\n",
            "====\n",
            "0\n",
            "====\n"
          ]
        }
      ]
    },
    {
      "cell_type": "code",
      "source": [
        "type(test_you_search_result)"
      ],
      "metadata": {
        "colab": {
          "base_uri": "https://localhost:8080/"
        },
        "id": "EcVjCHy1Xd1f",
        "outputId": "eb3a68a7-9d47-4eb0-f548-db987ddd4a9b"
      },
      "execution_count": null,
      "outputs": [
        {
          "output_type": "execute_result",
          "data": {
            "text/plain": [
              "dict"
            ]
          },
          "metadata": {},
          "execution_count": 133
        }
      ]
    },
    {
      "cell_type": "code",
      "source": [
        "for k, v in test_you_search_result['hits'][5].items():\n",
        "    print(f\"{k=}\\t{v=}\")"
      ],
      "metadata": {
        "colab": {
          "base_uri": "https://localhost:8080/"
        },
        "id": "RRgINDpoSKmC",
        "outputId": "f2c97b15-8e0f-4196-daf0-6c17fb6f2fc6"
      },
      "execution_count": null,
      "outputs": [
        {
          "output_type": "stream",
          "name": "stdout",
          "text": [
            "k='description'\tv='Climate change is a national security threat to Europe. It is an accelerator of conflict and requires European forces to adapt accordingly. Concurrently, armed forces can help mitigate climate change by reducing their greenhouse-gas emissions. For states that plan to reduce carbon emissions, ...'\n",
            "k='snippets'\tv=['Climate change is a national security threat to Europe. It is an accelerator of conflict and requires European forces to adapt accordingly. Concurrently, armed forces can help mitigate climate change by reducing their greenhouse-gas emissions. For states that plan to reduce carbon emissions, decarbonisation of armed forces without disarming will be a challenge.']\n",
            "k='title'\tv='Green Defence: the defence and military implications of climate change for Europe'\n",
            "k='url'\tv='https://www.iiss.org/research-paper//2022/02/green-defence'\n"
          ]
        }
      ]
    },
    {
      "cell_type": "markdown",
      "source": [
        "Summarize each snippet?"
      ],
      "metadata": {
        "id": "6b49Byz7TV8Z"
      }
    },
    {
      "cell_type": "code",
      "source": [
        "current_sub_query = queries[0]\n",
        "print(current_sub_query)\n",
        "len(sources)\n",
        "for i in sources:\n",
        "    print(i)"
      ],
      "metadata": {
        "colab": {
          "base_uri": "https://localhost:8080/"
        },
        "id": "uR6a_5TRTUwo",
        "outputId": "6ff63276-96cb-43e4-a18c-a32da911d796"
      },
      "execution_count": null,
      "outputs": [
        {
          "output_type": "stream",
          "name": "stdout",
          "text": [
            "Climate change and military operations\n",
            "These threats come in forms both direct and indirect, including direct threats to military installations from sea level rise and extreme droughts, and indirect threats through the exacerbation of instability in critical regions. Climate change presents risks to three elements of military effectiveness: readiness, operations and strategy.\n",
            "Climate change presents risks to three elements of military effectiveness: readiness, operations and strategy. Readiness: Readiness refers to the ability of a military to carry out operations in a timely manner. This involves having a stable and secure military infrastructure, including bases, supplies and logistics, in order to carry out missions. Climate change effects such as sea level rise have the ability to compromise coastal military installations that are critical for such operations.\n",
            "Climate change effects such as sea level rise have the ability to compromise coastal military installations that are critical for such operations. Other extreme weather events, such as droughts and flooding, can also put stresses on critical military infrastructure. Operations: Climate change effects impact military operations, whether they be war-fighting operations or humanitarian missions.\n",
            "Other extreme weather events, such as droughts and flooding, can also put stresses on critical military infrastructure. Operations: Climate change effects impact military operations, whether they be war-fighting operations or humanitarian missions. For example, climate change can place significant burdens on the supply chains and logistical capacity of armed forces engaged in “theater.” Extreme drought or flooding in areas where militaries are engaged in warfighting, for example, can compromise water supply lines, and thus threaten military personnel directly.\n",
            "But the changing climate is already imposing costs on the military and even challenging how well it can prepare to fight other nation states. “In terms of current operations, we have National Guardsmen, we have active-duty soldiers, we have active-duty airmen right now participating in firefighting support efforts. So these are...folks who are not doing a primary job. So right now we are experiencing climate change and effects.\n"
          ]
        }
      ]
    },
    {
      "cell_type": "code",
      "source": [
        "def gen_summary(sub_query: str, sources: List[str]):\n",
        "    messages=[\n",
        "        {\"role\": \"system\", \"content\": \"You are a helpful research assistant.\"},\n",
        "        {\"role\": \"user\", \"content\": f\"given the topic: {sub_query} and search results {sources}, generate a 200 words summary on the topic\"}\n",
        "    ]\n",
        "    print(messages)\n",
        "    result = client.chat.completions.create(\n",
        "        model=model,\n",
        "        messages=messages,\n",
        "        max_tokens=200,\n",
        "        tools=tools,\n",
        "        tool_choice=\"auto\",\n",
        "    )\n",
        "    print(result)\n",
        "    # return relevant_queries\n",
        "    # parsed_data: dict = json.loads(relevant_queries.choices[0].message.dict()['tool_calls'][0]['function']['arguments'])\n",
        "    summary = json.dumps(result.choices[0].message.content)\n",
        "    # queries_for_search = parsed_data['search_queries']\n",
        "    # summary: dict = json.loads(result.choices[0].message.dict()['content'])\n",
        "    return summary.strip()"
      ],
      "metadata": {
        "id": "CP9v5Oh_cAIh"
      },
      "execution_count": null,
      "outputs": []
    },
    {
      "cell_type": "code",
      "source": [
        "test_summary = gen_summary(current_sub_query, sources)\n",
        "print(test_summary)"
      ],
      "metadata": {
        "colab": {
          "base_uri": "https://localhost:8080/"
        },
        "id": "7GtX2onvdRjc",
        "outputId": "7d418fa7-1e3d-445e-cc5e-bc47df0edbfe"
      },
      "execution_count": null,
      "outputs": [
        {
          "output_type": "stream",
          "name": "stdout",
          "text": [
            "[{'role': 'system', 'content': 'You are a helpful research assistant.'}, {'role': 'user', 'content': \"given the topic: Climate change and military operations and search results ['These threats come in forms both direct and indirect, including direct threats to military installations from sea level rise and extreme droughts, and indirect threats through the exacerbation of instability in critical regions. Climate change presents risks to three elements of military effectiveness: readiness, operations and strategy.', 'Climate change presents risks to three elements of military effectiveness: readiness, operations and strategy. Readiness: Readiness refers to the ability of a military to carry out operations in a timely manner. This involves having a stable and secure military infrastructure, including bases, supplies and logistics, in order to carry out missions. Climate change effects such as sea level rise have the ability to compromise coastal military installations that are critical for such operations.', 'Climate change effects such as sea level rise have the ability to compromise coastal military installations that are critical for such operations. Other extreme weather events, such as droughts and flooding, can also put stresses on critical military infrastructure. Operations: Climate change effects impact military operations, whether they be war-fighting operations or humanitarian missions.', 'Other extreme weather events, such as droughts and flooding, can also put stresses on critical military infrastructure. Operations: Climate change effects impact military operations, whether they be war-fighting operations or humanitarian missions. For example, climate change can place significant burdens on the supply chains and logistical capacity of armed forces engaged in “theater.” Extreme drought or flooding in areas where militaries are engaged in warfighting, for example, can compromise water supply lines, and thus threaten military personnel directly.', 'But the changing climate is already imposing costs on the military and even challenging how well it can prepare to fight other nation states. “In terms of current operations, we have National Guardsmen, we have active-duty soldiers, we have active-duty airmen right now participating in firefighting support efforts. So these are...folks who are not doing a primary job. So right now we are experiencing climate change and effects.'], generate a 200 words summary on the topic\"}]\n",
            "ChatCompletion(id='876084ae58892099-IAD', choices=[Choice(finish_reason='eos', index=0, logprobs=None, message=ChatCompletionMessage(content=' Climate change poses significant risks to military effectiveness, including readiness, operations, and strategy. Readiness refers to the ability of a military to carry out operations in a timely manner, which can be compromised by climate change effects such as sea level rise and extreme weather events. Operations can also be impacted by climate change, whether they be war-fighting operations or humanitarian missions, with extreme droughts or flooding putting stresses on critical military infrastructure. The changing climate is already imposing costs on the military and challenging how well it can prepare to fight other nation states.', role='assistant', function_call=None, tool_calls=None))], created=1713399934, model='mistralai/Mistral-7B-Instruct-v0.1', object='chat.completion', system_fingerprint=None, usage=CompletionUsage(completion_tokens=123, prompt_tokens=1399, total_tokens=1522), prompt=[])\n",
            "\" Climate change poses significant risks to military effectiveness, including readiness, operations, and strategy. Readiness refers to the ability of a military to carry out operations in a timely manner, which can be compromised by climate change effects such as sea level rise and extreme weather events. Operations can also be impacted by climate change, whether they be war-fighting operations or humanitarian missions, with extreme droughts or flooding putting stresses on critical military infrastructure. The changing climate is already imposing costs on the military and challenging how well it can prepare to fight other nation states.\"\n"
          ]
        }
      ]
    },
    {
      "cell_type": "code",
      "source": [
        "# Write essay\n",
        "write_essay = {\n",
        "    \"type\": \"function\",\n",
        "    \"function\": {\n",
        "      \"name\": \"write_essay_on_research_topic\",\n",
        "      \"description\": \"Write an essay around 800 words based on the summeries of search results on the research topic\",\n",
        "      \"parameters\": {\n",
        "        \"type\": \"object\",\n",
        "        \"properties\": {\n",
        "          \"topic\": {\n",
        "            \"type\": \"string\",\n",
        "            \"description\": \"The main research topic\"\n",
        "          },\n",
        "          \"summeries\": {\n",
        "              \"type\": \"array\",\n",
        "              \"items\": {\n",
        "                  \"type\": \"string\"\n",
        "              },\n",
        "              \"description\": \"summeries on some search results on the Internet\"\n",
        "          },\n",
        "            \"essay\": {\n",
        "                \"type\": \"string\",\n",
        "                \"description\": \"The essay written based on the summeries\"\n",
        "            }\n",
        "        },\n",
        "        \"required\": [\"topic\", \"summeries\"]\n",
        "      },\n",
        "    }\n",
        "}\n",
        "tools.append(write_essay)"
      ],
      "metadata": {
        "id": "_et7Etxcj4Qg"
      },
      "execution_count": null,
      "outputs": []
    },
    {
      "cell_type": "code",
      "source": [
        "tools"
      ],
      "metadata": {
        "id": "X3TDEp9v6ngD"
      },
      "execution_count": null,
      "outputs": []
    },
    {
      "cell_type": "code",
      "source": [
        "def write_research_essay(summeries: List[str], topic: str):\n",
        "    messages=[\n",
        "        {\"role\": \"system\", \"content\": \"You are a helpful research assistant.\"},\n",
        "        {\"role\": \"user\", \"content\": f\"given the topic: {topic} and search results summeries {summeries}, generate an 800 words essay on the topic\"}\n",
        "    ]\n",
        "    result = client.chat.completions.create(\n",
        "        model=model,\n",
        "        messages=messages,\n",
        "        max_tokens=400,\n",
        "        tools=tools,\n",
        "        tool_choice=\"write_essay_on_research_topic\",\n",
        "    )\n",
        "    print(result)\n",
        "    return result"
      ],
      "metadata": {
        "id": "9dUj7jOj5IfF"
      },
      "execution_count": null,
      "outputs": []
    },
    {
      "cell_type": "code",
      "source": [
        "test_essay = write_research_essay(summeries, test_topic)"
      ],
      "metadata": {
        "colab": {
          "base_uri": "https://localhost:8080/",
          "height": 341
        },
        "id": "F7wqwdGm5wft",
        "outputId": "4beb88e7-932f-44c8-82ca-5bae2f4e1001"
      },
      "execution_count": null,
      "outputs": [
        {
          "output_type": "stream",
          "name": "stdout",
          "text": [
            "ChatCompletion(id='87610d859f8682ae-IAD', choices=[Choice(finish_reason='length', index=0, logprobs=None, message=ChatCompletionMessage(content=\" The impact of climate change on World War is a complex issue that requires a multifaceted approach. Climate change poses significant risks to military effectiveness, including readiness, operations, and strategy. Readiness refers to the ability of a military to carry out operations in a timely manner, which can be compromised by climate change effects such as sea level rise and extreme weather events. Operations can also be impacted by climate change, whether they be war-fighting operations or humanitarian missions, with extreme droughts or flooding putting stresses on critical military infrastructure.\\n\\nThe logistics industry is a significant contributor to global carbon emissions, with estimates suggesting that it accounts for around 24% of global CO2e emissions. As such, there is a growing focus on the need for climate-neutral logistics solutions that can help reduce the sector's carbon footprint. The European Environment Agency has set a target of reducing global logistics emissions by 40% by 2050, and policymakers have established a global framework for responding to dangerous climate change.\\n\\nOne of the key challenges facing the logistics industry is the need to adapt to changing weather patterns and other climate-related risks. For example, extreme weather events such as floods, wildfires, and droughts can disrupt supply chains and make it difficult for companies to move goods around the world. To address these challenges, many companies are turning to integrated logistics solutions that can help them stay resilient in the face of climate change.\\n\\nThe transportation sector is a significant contributor to greenhouse gas (GHG) emissions, accounting for about 29 percent of total U.S. GHG emissions. EPA is addressing climate change by taking the following actions to reduce GHG emissions from the transportation sector. Many of these programs have benefits beyond cutting carbon. Burning fossil fuels like gasoline and dies\", role='assistant', function_call=None, tool_calls=None))], created=1713405541, model='mistralai/Mistral-7B-Instruct-v0.1', object='chat.completion', system_fingerprint=None, usage=CompletionUsage(completion_tokens=400, prompt_tokens=1735, total_tokens=2135), prompt=[])\n"
          ]
        },
        {
          "output_type": "error",
          "ename": "TypeError",
          "evalue": "Object of type Choice is not JSON serializable",
          "traceback": [
            "\u001b[0;31m---------------------------------------------------------------------------\u001b[0m",
            "\u001b[0;31mTypeError\u001b[0m                                 Traceback (most recent call last)",
            "\u001b[0;32m<ipython-input-159-0de14453997d>\u001b[0m in \u001b[0;36m<cell line: 2>\u001b[0;34m()\u001b[0m\n\u001b[1;32m      1\u001b[0m \u001b[0mtest_essay\u001b[0m \u001b[0;34m=\u001b[0m \u001b[0mwrite_research_essay\u001b[0m\u001b[0;34m(\u001b[0m\u001b[0msummeries\u001b[0m\u001b[0;34m,\u001b[0m \u001b[0mtest_topic\u001b[0m\u001b[0;34m)\u001b[0m\u001b[0;34m\u001b[0m\u001b[0;34m\u001b[0m\u001b[0m\n\u001b[0;32m----> 2\u001b[0;31m \u001b[0mprint\u001b[0m\u001b[0;34m(\u001b[0m\u001b[0mjson\u001b[0m\u001b[0;34m.\u001b[0m\u001b[0mdumps\u001b[0m\u001b[0;34m(\u001b[0m\u001b[0mtest_essay\u001b[0m\u001b[0;34m.\u001b[0m\u001b[0mchoices\u001b[0m\u001b[0;34m[\u001b[0m\u001b[0;36m0\u001b[0m\u001b[0;34m]\u001b[0m\u001b[0;34m,\u001b[0m \u001b[0mindent\u001b[0m\u001b[0;34m=\u001b[0m\u001b[0;36m2\u001b[0m\u001b[0;34m)\u001b[0m\u001b[0;34m)\u001b[0m\u001b[0;34m\u001b[0m\u001b[0;34m\u001b[0m\u001b[0m\n\u001b[0m",
            "\u001b[0;32m/usr/lib/python3.10/json/__init__.py\u001b[0m in \u001b[0;36mdumps\u001b[0;34m(obj, skipkeys, ensure_ascii, check_circular, allow_nan, cls, indent, separators, default, sort_keys, **kw)\u001b[0m\n\u001b[1;32m    236\u001b[0m         \u001b[0mcheck_circular\u001b[0m\u001b[0;34m=\u001b[0m\u001b[0mcheck_circular\u001b[0m\u001b[0;34m,\u001b[0m \u001b[0mallow_nan\u001b[0m\u001b[0;34m=\u001b[0m\u001b[0mallow_nan\u001b[0m\u001b[0;34m,\u001b[0m \u001b[0mindent\u001b[0m\u001b[0;34m=\u001b[0m\u001b[0mindent\u001b[0m\u001b[0;34m,\u001b[0m\u001b[0;34m\u001b[0m\u001b[0;34m\u001b[0m\u001b[0m\n\u001b[1;32m    237\u001b[0m         \u001b[0mseparators\u001b[0m\u001b[0;34m=\u001b[0m\u001b[0mseparators\u001b[0m\u001b[0;34m,\u001b[0m \u001b[0mdefault\u001b[0m\u001b[0;34m=\u001b[0m\u001b[0mdefault\u001b[0m\u001b[0;34m,\u001b[0m \u001b[0msort_keys\u001b[0m\u001b[0;34m=\u001b[0m\u001b[0msort_keys\u001b[0m\u001b[0;34m,\u001b[0m\u001b[0;34m\u001b[0m\u001b[0;34m\u001b[0m\u001b[0m\n\u001b[0;32m--> 238\u001b[0;31m         **kw).encode(obj)\n\u001b[0m\u001b[1;32m    239\u001b[0m \u001b[0;34m\u001b[0m\u001b[0m\n\u001b[1;32m    240\u001b[0m \u001b[0;34m\u001b[0m\u001b[0m\n",
            "\u001b[0;32m/usr/lib/python3.10/json/encoder.py\u001b[0m in \u001b[0;36mencode\u001b[0;34m(self, o)\u001b[0m\n\u001b[1;32m    199\u001b[0m         \u001b[0mchunks\u001b[0m \u001b[0;34m=\u001b[0m \u001b[0mself\u001b[0m\u001b[0;34m.\u001b[0m\u001b[0miterencode\u001b[0m\u001b[0;34m(\u001b[0m\u001b[0mo\u001b[0m\u001b[0;34m,\u001b[0m \u001b[0m_one_shot\u001b[0m\u001b[0;34m=\u001b[0m\u001b[0;32mTrue\u001b[0m\u001b[0;34m)\u001b[0m\u001b[0;34m\u001b[0m\u001b[0;34m\u001b[0m\u001b[0m\n\u001b[1;32m    200\u001b[0m         \u001b[0;32mif\u001b[0m \u001b[0;32mnot\u001b[0m \u001b[0misinstance\u001b[0m\u001b[0;34m(\u001b[0m\u001b[0mchunks\u001b[0m\u001b[0;34m,\u001b[0m \u001b[0;34m(\u001b[0m\u001b[0mlist\u001b[0m\u001b[0;34m,\u001b[0m \u001b[0mtuple\u001b[0m\u001b[0;34m)\u001b[0m\u001b[0;34m)\u001b[0m\u001b[0;34m:\u001b[0m\u001b[0;34m\u001b[0m\u001b[0;34m\u001b[0m\u001b[0m\n\u001b[0;32m--> 201\u001b[0;31m             \u001b[0mchunks\u001b[0m \u001b[0;34m=\u001b[0m \u001b[0mlist\u001b[0m\u001b[0;34m(\u001b[0m\u001b[0mchunks\u001b[0m\u001b[0;34m)\u001b[0m\u001b[0;34m\u001b[0m\u001b[0;34m\u001b[0m\u001b[0m\n\u001b[0m\u001b[1;32m    202\u001b[0m         \u001b[0;32mreturn\u001b[0m \u001b[0;34m''\u001b[0m\u001b[0;34m.\u001b[0m\u001b[0mjoin\u001b[0m\u001b[0;34m(\u001b[0m\u001b[0mchunks\u001b[0m\u001b[0;34m)\u001b[0m\u001b[0;34m\u001b[0m\u001b[0;34m\u001b[0m\u001b[0m\n\u001b[1;32m    203\u001b[0m \u001b[0;34m\u001b[0m\u001b[0m\n",
            "\u001b[0;32m/usr/lib/python3.10/json/encoder.py\u001b[0m in \u001b[0;36m_iterencode\u001b[0;34m(o, _current_indent_level)\u001b[0m\n\u001b[1;32m    436\u001b[0m                     \u001b[0;32mraise\u001b[0m \u001b[0mValueError\u001b[0m\u001b[0;34m(\u001b[0m\u001b[0;34m\"Circular reference detected\"\u001b[0m\u001b[0;34m)\u001b[0m\u001b[0;34m\u001b[0m\u001b[0;34m\u001b[0m\u001b[0m\n\u001b[1;32m    437\u001b[0m                 \u001b[0mmarkers\u001b[0m\u001b[0;34m[\u001b[0m\u001b[0mmarkerid\u001b[0m\u001b[0;34m]\u001b[0m \u001b[0;34m=\u001b[0m \u001b[0mo\u001b[0m\u001b[0;34m\u001b[0m\u001b[0;34m\u001b[0m\u001b[0m\n\u001b[0;32m--> 438\u001b[0;31m             \u001b[0mo\u001b[0m \u001b[0;34m=\u001b[0m \u001b[0m_default\u001b[0m\u001b[0;34m(\u001b[0m\u001b[0mo\u001b[0m\u001b[0;34m)\u001b[0m\u001b[0;34m\u001b[0m\u001b[0;34m\u001b[0m\u001b[0m\n\u001b[0m\u001b[1;32m    439\u001b[0m             \u001b[0;32myield\u001b[0m \u001b[0;32mfrom\u001b[0m \u001b[0m_iterencode\u001b[0m\u001b[0;34m(\u001b[0m\u001b[0mo\u001b[0m\u001b[0;34m,\u001b[0m \u001b[0m_current_indent_level\u001b[0m\u001b[0;34m)\u001b[0m\u001b[0;34m\u001b[0m\u001b[0;34m\u001b[0m\u001b[0m\n\u001b[1;32m    440\u001b[0m             \u001b[0;32mif\u001b[0m \u001b[0mmarkers\u001b[0m \u001b[0;32mis\u001b[0m \u001b[0;32mnot\u001b[0m \u001b[0;32mNone\u001b[0m\u001b[0;34m:\u001b[0m\u001b[0;34m\u001b[0m\u001b[0;34m\u001b[0m\u001b[0m\n",
            "\u001b[0;32m/usr/lib/python3.10/json/encoder.py\u001b[0m in \u001b[0;36mdefault\u001b[0;34m(self, o)\u001b[0m\n\u001b[1;32m    177\u001b[0m \u001b[0;34m\u001b[0m\u001b[0m\n\u001b[1;32m    178\u001b[0m         \"\"\"\n\u001b[0;32m--> 179\u001b[0;31m         raise TypeError(f'Object of type {o.__class__.__name__} '\n\u001b[0m\u001b[1;32m    180\u001b[0m                         f'is not JSON serializable')\n\u001b[1;32m    181\u001b[0m \u001b[0;34m\u001b[0m\u001b[0m\n",
            "\u001b[0;31mTypeError\u001b[0m: Object of type Choice is not JSON serializable"
          ]
        }
      ]
    },
    {
      "cell_type": "code",
      "source": [
        "temp_essay = json.dumps(test_essay.choices[0].message.content, indent=2)\n",
        "print(temp_essay)\n"
      ],
      "metadata": {
        "colab": {
          "base_uri": "https://localhost:8080/"
        },
        "id": "F05NNJey7kgZ",
        "outputId": "c4d9db00-4f5c-4365-cb21-8d3b4a216373"
      },
      "execution_count": null,
      "outputs": [
        {
          "output_type": "stream",
          "name": "stdout",
          "text": [
            "\" The impact of climate change on World War is a complex issue that requires a multifaceted approach. Climate change poses significant risks to military effectiveness, including readiness, operations, and strategy. Readiness refers to the ability of a military to carry out operations in a timely manner, which can be compromised by climate change effects such as sea level rise and extreme weather events. Operations can also be impacted by climate change, whether they be war-fighting operations or humanitarian missions, with extreme droughts or flooding putting stresses on critical military infrastructure.\\n\\nThe logistics industry is a significant contributor to global carbon emissions, with estimates suggesting that it accounts for around 24% of global CO2e emissions. As such, there is a growing focus on the need for climate-neutral logistics solutions that can help reduce the sector's carbon footprint. The European Environment Agency has set a target of reducing global logistics emissions by 40% by 2050, and policymakers have established a global framework for responding to dangerous climate change.\\n\\nOne of the key challenges facing the logistics industry is the need to adapt to changing weather patterns and other climate-related risks. For example, extreme weather events such as floods, wildfires, and droughts can disrupt supply chains and make it difficult for companies to move goods around the world. To address these challenges, many companies are turning to integrated logistics solutions that can help them stay resilient in the face of climate change.\\n\\nThe transportation sector is a significant contributor to greenhouse gas (GHG) emissions, accounting for about 29 percent of total U.S. GHG emissions. EPA is addressing climate change by taking the following actions to reduce GHG emissions from the transportation sector. Many of these programs have benefits beyond cutting carbon. Burning fossil fuels like gasoline and dies\"\n"
          ]
        }
      ]
    },
    {
      "cell_type": "code",
      "source": [
        "with open('temp_essay.txt', 'w') as f:\n",
        "    f.write(temp_essay)"
      ],
      "metadata": {
        "id": "RMsVfrku8dUD"
      },
      "execution_count": null,
      "outputs": []
    },
    {
      "cell_type": "code",
      "source": [
        "def critique_essay(essay: str, topic: str):\n",
        "    messages=[\n",
        "        {\"role\": \"system\", \"content\": \"You are a helpful research assistant.\"},\n",
        "        {\"role\": \"user\", \"content\": f\"given the topic: {topic} and essay: \\n{essay}\\n Please revise and improve the essay to make it more fluent and complete.\"}\n",
        "    ]\n",
        "    result = client.chat.completions.create(\n",
        "        model=model,\n",
        "        messages=messages,\n",
        "        max_tokens=400,\n",
        "    )\n",
        "    print(result)\n",
        "    return result"
      ],
      "metadata": {
        "id": "epeF7NFX9tal"
      },
      "execution_count": null,
      "outputs": []
    },
    {
      "cell_type": "code",
      "source": [
        "test_critique = critique_essay(test_essay, test_topic)"
      ],
      "metadata": {
        "colab": {
          "base_uri": "https://localhost:8080/"
        },
        "id": "P5w584d5-3Xp",
        "outputId": "e6e3b135-a636-472b-fec5-7009a63b46c4"
      },
      "execution_count": null,
      "outputs": [
        {
          "output_type": "stream",
          "name": "stdout",
          "text": [
            "ChatCompletion(id='8761245c09dc0664-IAD', choices=[Choice(finish_reason='length', index=0, logprobs=None, message=ChatCompletionMessage(content=\" The impact of climate change on World War is a complex issue that requires a multifaceted approach. Climate change poses significant risks to military effectiveness, including readiness, operations, and strategy. Readiness refers to the ability of a military to carry out operations in a timely manner, which can be compromised by climate change effects such as sea level rise and extreme weather events. Operations can also be impacted by climate change, whether they be war-fighting operations or humanitarian missions, with extreme droughts or flooding putting stresses on critical military infrastructure.\\n\\nThe logistics industry is a significant contributor to global carbon emissions, with estimates suggesting that it accounts for around 24% of global CO2e emissions. As such, there is a growing focus on the need for climate-neutral logistics solutions that can help reduce the sector's carbon footprint. The European Environment Agency has set a target of reducing global logistics emissions by 40% by 2050, and policymakers have established a global framework for responding to dangerous climate change.\\n\\nOne of the key challenges facing the logistics industry is the need to adapt to changing weather patterns and other climate-related risks. For example, extreme weather events such as floods, wildfires, and droughts can disrupt supply chains and make it difficult for companies to move goods around the world. To address these challenges, many companies are turning to integrated logistics solutions that can help them stay resilient in the face of climate change.\\n\\nThe transportation sector is a significant contributor to greenhouse gas (GHG) emissions, accounting for about 29 percent of total U.S. GHG emissions. EPA is addressing climate change by taking the following actions to reduce GHG emissions from the transportation sector. Many of these programs have benefits beyond cutting carbon. Burning fossil fuels like gasoline and dies\", role='assistant', function_call=None, tool_calls=None))], created=1713406475, model='mistralai/Mistral-7B-Instruct-v0.1', object='chat.completion', system_fingerprint=None, usage=CompletionUsage(completion_tokens=400, prompt_tokens=621, total_tokens=1021), prompt=[])\n"
          ]
        }
      ]
    },
    {
      "cell_type": "code",
      "source": [
        "temp_critique = json.dumps(test_critique.choices[0].message.content, indent=2)\n",
        "print(temp_critique)"
      ],
      "metadata": {
        "colab": {
          "base_uri": "https://localhost:8080/"
        },
        "id": "QMcT0Fmh_CSX",
        "outputId": "5637e7f5-8315-4c84-9b08-436984682064"
      },
      "execution_count": null,
      "outputs": [
        {
          "output_type": "stream",
          "name": "stdout",
          "text": [
            "\" The impact of climate change on World War is a complex issue that requires a multifaceted approach. Climate change poses significant risks to military effectiveness, including readiness, operations, and strategy. Readiness refers to the ability of a military to carry out operations in a timely manner, which can be compromised by climate change effects such as sea level rise and extreme weather events. Operations can also be impacted by climate change, whether they be war-fighting operations or humanitarian missions, with extreme droughts or flooding putting stresses on critical military infrastructure.\\n\\nThe logistics industry is a significant contributor to global carbon emissions, with estimates suggesting that it accounts for around 24% of global CO2e emissions. As such, there is a growing focus on the need for climate-neutral logistics solutions that can help reduce the sector's carbon footprint. The European Environment Agency has set a target of reducing global logistics emissions by 40% by 2050, and policymakers have established a global framework for responding to dangerous climate change.\\n\\nOne of the key challenges facing the logistics industry is the need to adapt to changing weather patterns and other climate-related risks. For example, extreme weather events such as floods, wildfires, and droughts can disrupt supply chains and make it difficult for companies to move goods around the world. To address these challenges, many companies are turning to integrated logistics solutions that can help them stay resilient in the face of climate change.\\n\\nThe transportation sector is a significant contributor to greenhouse gas (GHG) emissions, accounting for about 29 percent of total U.S. GHG emissions. EPA is addressing climate change by taking the following actions to reduce GHG emissions from the transportation sector. Many of these programs have benefits beyond cutting carbon. Burning fossil fuels like gasoline and dies\"\n"
          ]
        }
      ]
    },
    {
      "cell_type": "code",
      "source": [
        "with open('temp_critique.txt', 'w') as f:\n",
        "    f.write(temp_critique)"
      ],
      "metadata": {
        "id": "tamxd_gB_Hk6"
      },
      "execution_count": null,
      "outputs": []
    },
    {
      "cell_type": "code",
      "source": [
        "var0 = json.loads(test_summary.choices[0].message.dict()['content'].strip())\n",
        "# var1 = json.dumps(test_summary.choices[0].message.content)\n",
        "print(var1)\n",
        "print(type(var1))\n",
        "print(len(var1))\n",
        "print(var0)"
      ],
      "metadata": {
        "colab": {
          "base_uri": "https://localhost:8080/",
          "height": 211
        },
        "id": "wO4z56J9embK",
        "outputId": "edcf9dc4-4e74-4a61-bd67-74f98bb61455"
      },
      "execution_count": null,
      "outputs": [
        {
          "output_type": "error",
          "ename": "AttributeError",
          "evalue": "'str' object has no attribute 'choices'",
          "traceback": [
            "\u001b[0;31m---------------------------------------------------------------------------\u001b[0m",
            "\u001b[0;31mAttributeError\u001b[0m                            Traceback (most recent call last)",
            "\u001b[0;32m<ipython-input-123-cb8b28d47dc6>\u001b[0m in \u001b[0;36m<cell line: 1>\u001b[0;34m()\u001b[0m\n\u001b[0;32m----> 1\u001b[0;31m \u001b[0mvar0\u001b[0m \u001b[0;34m=\u001b[0m \u001b[0mjson\u001b[0m\u001b[0;34m.\u001b[0m\u001b[0mloads\u001b[0m\u001b[0;34m(\u001b[0m\u001b[0mtest_summary\u001b[0m\u001b[0;34m.\u001b[0m\u001b[0mchoices\u001b[0m\u001b[0;34m[\u001b[0m\u001b[0;36m0\u001b[0m\u001b[0;34m]\u001b[0m\u001b[0;34m.\u001b[0m\u001b[0mmessage\u001b[0m\u001b[0;34m.\u001b[0m\u001b[0mdict\u001b[0m\u001b[0;34m(\u001b[0m\u001b[0;34m)\u001b[0m\u001b[0;34m[\u001b[0m\u001b[0;34m'content'\u001b[0m\u001b[0;34m]\u001b[0m\u001b[0;34m.\u001b[0m\u001b[0mstrip\u001b[0m\u001b[0;34m(\u001b[0m\u001b[0;34m)\u001b[0m\u001b[0;34m)\u001b[0m\u001b[0;34m\u001b[0m\u001b[0;34m\u001b[0m\u001b[0m\n\u001b[0m\u001b[1;32m      2\u001b[0m \u001b[0;31m# var1 = json.dumps(test_summary.choices[0].message.content)\u001b[0m\u001b[0;34m\u001b[0m\u001b[0;34m\u001b[0m\u001b[0m\n\u001b[1;32m      3\u001b[0m \u001b[0mprint\u001b[0m\u001b[0;34m(\u001b[0m\u001b[0mvar1\u001b[0m\u001b[0;34m)\u001b[0m\u001b[0;34m\u001b[0m\u001b[0;34m\u001b[0m\u001b[0m\n\u001b[1;32m      4\u001b[0m \u001b[0mprint\u001b[0m\u001b[0;34m(\u001b[0m\u001b[0mtype\u001b[0m\u001b[0;34m(\u001b[0m\u001b[0mvar1\u001b[0m\u001b[0;34m)\u001b[0m\u001b[0;34m)\u001b[0m\u001b[0;34m\u001b[0m\u001b[0;34m\u001b[0m\u001b[0m\n\u001b[1;32m      5\u001b[0m \u001b[0mprint\u001b[0m\u001b[0;34m(\u001b[0m\u001b[0mlen\u001b[0m\u001b[0;34m(\u001b[0m\u001b[0mvar1\u001b[0m\u001b[0;34m)\u001b[0m\u001b[0;34m)\u001b[0m\u001b[0;34m\u001b[0m\u001b[0;34m\u001b[0m\u001b[0m\n",
            "\u001b[0;31mAttributeError\u001b[0m: 'str' object has no attribute 'choices'"
          ]
        }
      ]
    },
    {
      "cell_type": "markdown",
      "source": [
        "The length of search results is too big.\n",
        "1. Create a function that iterates over the 10 search results and combine \"snippets\" field into a summary array -> summaries`[summary0, summary1....]`\n",
        "2. Create a function that use the model to generate an essay.\n",
        "\n",
        "---\n",
        "\n",
        "How about 1. summary on the 1st search result, then use critique agent to assess whether or not continue to complement the essay or trigger another search."
      ],
      "metadata": {
        "id": "XcUSAxCR7QWl"
      }
    }
  ]
}